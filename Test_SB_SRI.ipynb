{
 "cells": [
  {
   "cell_type": "code",
   "execution_count": null,
   "metadata": {
    "application/vnd.databricks.v1+cell": {
     "cellMetadata": {
      "byteLimit": 2048000,
      "rowLimit": 10000
     },
     "inputWidgets": {},
     "nuid": "7f6517ba-d6e3-4f1e-9549-e1b58d2b1f7b",
     "showTitle": false,
     "title": ""
    }
   },
   "outputs": [],
   "source": [
    "import os\n",
    "os.environ[\"DATABRICKS_TOKEN\"] = sc.getLocalProperty(\"spark.databricks.token\")"
   ]
  },
  {
   "cell_type": "code",
   "execution_count": null,
   "metadata": {
    "application/vnd.databricks.v1+cell": {
     "cellMetadata": {
      "byteLimit": 2048000,
      "rowLimit": 10000
     },
     "inputWidgets": {},
     "nuid": "3d318776-fb91-4179-9514-c503c43e9ded",
     "showTitle": false,
     "title": ""
    }
   },
   "outputs": [],
   "source": [
    "%sh\n",
    "\n",
    "cat > ~/.databrickscfg << EOF\n",
    "[DEFAULT]\n",
    "host = https://dbc-dfecb9db-32a5.cloud.databricks.com\n",
    "token = $DATABRICKS_TOKEN\n",
    "EOF"
   ]
  },
  {
   "cell_type": "code",
   "execution_count": null,
   "metadata": {
    "application/vnd.databricks.v1+cell": {
     "cellMetadata": {},
     "inputWidgets": {},
     "nuid": "bbc5230d-622a-47ba-b75e-4b815725870a",
     "showTitle": false,
     "title": ""
    }
   },
   "outputs": [],
   "source": [
    "%sh\n",
    "\n",
    "# CLUSTER_SPEC='{ \"cluster_name\":\"\", \"spark_version\":\"13.2.x-scala2.12\", \"instance_pool_id\":\"0703-011504-era331-pool-7mt36cl2\", \"driver_instance_pool_id\":\"0703-011504-era331-pool-7mt36cl2\", \"data_security_mode\": \"USER_ISOLATION\", \"runtime_engine\":\"STANDARD\", \"autoscale\": { \"min_workers\":2, \"max_workers\":8 } }'\n",
    "\n",
    "CLUSTER_SPEC='{\n",
    "        \"cluster_name\":\"\",\n",
    "        \"spark_version\":\"13.2.x-scala2.12\",\n",
    "        \"spark_conf\": {\n",
    "            \"spark.hadoop.fs.s3a.credentialsType\": \"AssumeRole\",\n",
    "            \"spark.sql.legacy.parquet.int96RebaseModeInRead\": \"LEGACY\",\n",
    "            \"spark.hadoop.fs.s3.impl\": \"com.databricks.s3a.S3AFileSystem\",\n",
    "            \"spark.hadoop.fs.s3a.acl.default\": \"BucketOwnerFullControl\",\n",
    "            \"spark.databricks.hive.metastore.glueCatalog.enabled\": \"true\",\n",
    "            \"spark.hadoop.fs.s3n.impl\": \"com.databricks.s3a.S3AFileSystem\",\n",
    "            \"spark.sql.legacy.parquet.datetimeRebaseModeInWrite\": \"CORRECTED\",\n",
    "            \"spark.hadoop.fs.s3a.stsAssumeRole.arn\": \"arn:aws:iam::160325711770:instance-profile/EMR_EC2_DefaultRole\",\n",
    "            \"spark.hadoop.fs.s3a.canned.acl\": \"BucketOwnerFullControl\",\n",
    "            \"spark.speculation\": \"false\",\n",
    "            \"spark.hadoop.hive.metastore.glue.catalogid\": \"160325711770\",\n",
    "            \"spark.sql.parquet.writeLegacyFormat\": \"true\",\n",
    "            \"spark.hadoop.fs.s3a.impl\": \"com.databricks.s3a.S3AFileSystem\",\n",
    "            \"spark.sql.hive.metastore.jars\": \"maven\",\n",
    "            \"spark.sql.hive.metastore.version\": \"1.2.1\",\n",
    "            \"spark.databricks.delta.optimizeWrite.enabled\": \"true\"\n",
    "        },\n",
    "        \"spark_env_vars\": {\n",
    "            \"deltalake_catalogue_id\": \"160325711770\",\n",
    "            \"deltalake_assume_role_arn\": \"arn:aws:iam::160325711770:instance-profile/EMR_EC2_DefaultRole\",\n",
    "            \"environment\": \"prod\",\n",
    "            \"cicd_notebook_path_prefix\": \"CICD/30_delta_prod/\"\n",
    "        },\n",
    "        \"instance_pool_id\":\"NONE\",\n",
    "        \"driver_instance_pool_id\":\"NONE\",\n",
    "        \"data_security_mode\":\"NONE\",\n",
    "        \"runtime_engine\":\"STANDARD\",\n",
    "        \"autoscale\": {\n",
    "            \"min_workers\":2,\n",
    "            \"max_workers\":4\n",
    "        }\n",
    "    }'\n",
    "\n",
    "mkdir -p ~/app/bronze/db_submit; cp /dbfs/FileStore/scripts/db_submit.zip ~/app/bronze/SparkSQL-Kilaris-DB-Job/db_submit/db_submit.zip; unzip -o ~/app/bronze/SparkSQL-Kilaris-DB-Job/db_submit/db_submit.zip -d ~/app/bronze/SparkSQL-Kilaris-DB-Job/db_submit bin/db-submit --wait-for-completion false --source-zip s3://kilaris-aws-databricks-s3-bucket/packages/pipeline-package.zip --dest-zip /tmp/app/bronze/SparkSQL-Kilaris-DB-Job --cluster-spec \"$CLUSTER_SPEC\" --conf spark.app.name=SparkSQL-Kilaris-DB-Job --conf spark.yarn.stagingDir=hdfs://$(hostname -f):8020/user/hadoop --conf spark.yarn.appMasterEnv.SPARK_HOME=/usr/lib/spark --conf spark.yarn.submit.waitAppCompletion=true --conf spark.port.maxRetries=1000 --conf spark.yarn.tags=SparkSQL-Kilaris-DB-Job --conf spark.executor.asyncEagerFileSystemInit.paths=s3://kilaris-aws-databricks-s3-bucket2 --conf spark.kryoserializer.buffer.max=1024m --conf spark.default.parallelism=512 --conf spark.sql.adaptive.coalescePartitions.initialPartitionNum=512 --conf spark.dynamicAllocation.maxExecutors=6 --instance-profile-arn arn:aws:iam::160325711770:instance-profile/EMR_EC2_DefaultRole --py-files s3://kilaris-aws-databricks-s3-bucket/packages/pipeline-package.zip --packages org.apache.spark:spark-sql-kafka-0-10_2.12:3.3.2,org.apache.spark:spark-avro_2.12:3.3.2,com.fasterxml.jackson.core:jackson-databind:2.12.0,awswrangler /tmp/app/bronze/SparkSQL-Kilaris-DB-Job/main.py  --job demo_app --job-type bronze --job-args I delta_emr_source 9999-12-31-01 travel_details_db route_id\n"
   ]
  }
 ],
 "metadata": {
  "application/vnd.databricks.v1+notebook": {
   "dashboards": [],
   "language": "python",
   "notebookMetadata": {
    "mostRecentlyExecutedCommandWithImplicitDF": {
     "commandId": 2190093806412192,
     "dataframes": [
      "_sqldf"
     ]
    },
    "pythonIndentUnit": 4
   },
   "notebookName": "Test_SB_SRI",
   "widgets": {}
  },
  "language_info": {
   "name": "python"
  }
 },
 "nbformat": 4,
 "nbformat_minor": 0
}
