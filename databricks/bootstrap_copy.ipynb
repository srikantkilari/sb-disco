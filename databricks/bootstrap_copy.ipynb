{
 "cells": [
  {
   "cell_type": "code",
   "execution_count": null,
   "metadata": {
    "application/vnd.databricks.v1+cell": {
     "cellMetadata": {},
     "inputWidgets": {},
     "nuid": "2c44e07e-3b4e-4567-935a-fa06cd30974c",
     "showTitle": false,
     "title": ""
    }
   },
   "outputs": [],
   "source": [
    "dbutils.widgets.text(\"source\", \"\", \"Source from which to copy file from\")\n",
    "dbutils.widgets.text(\"dest\", \"\", \"Destination where to copy file to\")\n",
    "dbutils.widgets.text(\"py-files\", \"\", \"Additional comma separated list of files normally submitted via --py-files\")"
   ]
  },
  {
   "cell_type": "code",
   "execution_count": null,
   "metadata": {
    "application/vnd.databricks.v1+cell": {
     "cellMetadata": {},
     "inputWidgets": {},
     "nuid": "e533fb37-dc63-48ff-96fc-696d1fbd9dfc",
     "showTitle": false,
     "title": ""
    }
   },
   "outputs": [],
   "source": [
    "import os\n",
    "import uuid\n",
    "import shutil"
   ]
  },
  {
   "cell_type": "code",
   "execution_count": null,
   "metadata": {
    "application/vnd.databricks.v1+cell": {
     "cellMetadata": {},
     "inputWidgets": {},
     "nuid": "b6df7ca7-0d72-4f54-a5fb-b077664ee380",
     "showTitle": false,
     "title": ""
    }
   },
   "outputs": [],
   "source": [
    "class OperationFailed(RuntimeError):\n",
    "  pass"
   ]
  },
  {
   "cell_type": "code",
   "execution_count": null,
   "metadata": {
    "application/vnd.databricks.v1+cell": {
     "cellMetadata": {},
     "inputWidgets": {},
     "nuid": "35a5f122-efe8-4067-bd0f-865686b423eb",
     "showTitle": false,
     "title": ""
    }
   },
   "outputs": [],
   "source": [
    "source = dbutils.widgets.get(\"source\")\n",
    "dest = dbutils.widgets.get(\"dest\")\n",
    "prefixed_dest = dest\n",
    "py_files = dbutils.widgets.get(\"py-files\").split(\",\")\n",
    "if prefixed_dest.startswith(\"/\") or prefixed_dest.startswith(\".\") or prefixed_dest.startswith(\"~\"):\n",
    "  prefixed_dest = f\"file://{prefixed_dest}\"\n",
    "py_files = [f\"{'file://' if f.startswith('/') or f.startswith('.') or f.startswith('~') else ''}{f}\" for f in py_files]"
   ]
  },
  {
   "cell_type": "code",
   "execution_count": null,
   "metadata": {
    "application/vnd.databricks.v1+cell": {
     "cellMetadata": {},
     "inputWidgets": {},
     "nuid": "709044f1-cec5-4f16-8f75-8b62b1ff608a",
     "showTitle": false,
     "title": ""
    }
   },
   "outputs": [],
   "source": [
    "home_dir = os.path.expanduser('~')\n",
    "print(f\"Home directory is {home_dir}\")\n",
    "dest = dest.replace(\"~\", home_dir)\n",
    "prefixed_dest = prefixed_dest.replace(\"~\", home_dir)\n",
    "py_files = [f.replace(\"~\", home_dir) for f in py_files]"
   ]
  },
  {
   "cell_type": "code",
   "execution_count": null,
   "metadata": {
    "application/vnd.databricks.v1+cell": {
     "cellMetadata": {},
     "inputWidgets": {},
     "nuid": "a8c47c1b-b7ed-421c-af7a-ca3add070cf2",
     "showTitle": false,
     "title": ""
    }
   },
   "outputs": [],
   "source": [
    "path_splits = os.path.split(source)\n",
    "filename = path_splits[1]"
   ]
  },
  {
   "cell_type": "code",
   "execution_count": null,
   "metadata": {
    "application/vnd.databricks.v1+cell": {
     "cellMetadata": {},
     "inputWidgets": {},
     "nuid": "f1837e49-6d6c-4d39-b39e-0cd0fbfe90b9",
     "showTitle": false,
     "title": ""
    }
   },
   "outputs": [],
   "source": [
    "os.makedirs(dest, 0o770, True)"
   ]
  },
  {
   "cell_type": "code",
   "execution_count": null,
   "metadata": {
    "application/vnd.databricks.v1+cell": {
     "cellMetadata": {},
     "inputWidgets": {},
     "nuid": "a2bd659e-cead-4f15-bf35-f2a988e9dbc1",
     "showTitle": false,
     "title": ""
    }
   },
   "outputs": [],
   "source": [
    "dbutils.fs.cp(source, f\"{prefixed_dest}/{filename}\", True)"
   ]
  },
  {
   "cell_type": "code",
   "execution_count": null,
   "metadata": {
    "application/vnd.databricks.v1+cell": {
     "cellMetadata": {},
     "inputWidgets": {},
     "nuid": "a2e97d9d-8fd2-45b1-b09e-e8a5178b6f93",
     "showTitle": false,
     "title": ""
    }
   },
   "outputs": [],
   "source": [
    "os.chmod(f'{dest}', 0o770)"
   ]
  },
  {
   "cell_type": "code",
   "execution_count": null,
   "metadata": {
    "application/vnd.databricks.v1+cell": {
     "cellMetadata": {},
     "inputWidgets": {},
     "nuid": "f5c46e3f-2d78-4c48-b2dc-c2a583012a57",
     "showTitle": false,
     "title": ""
    }
   },
   "outputs": [],
   "source": [
    "import zipfile\n",
    "\n",
    "with zipfile.ZipFile(f'{dest}/{filename}', 'r') as zip:\n",
    "  zip.extractall(f'{dest}')"
   ]
  },
  {
   "cell_type": "code",
   "execution_count": null,
   "metadata": {
    "application/vnd.databricks.v1+cell": {
     "cellMetadata": {},
     "inputWidgets": {},
     "nuid": "2ae94b49-d634-4009-83c0-d5a015ab8ab2",
     "showTitle": false,
     "title": ""
    }
   },
   "outputs": [],
   "source": [
    "for f in py_files:\n",
    "  dbutils.fs.ls(f) # check if file exists because addPyFile() does nothing if it doesn't or if it can't be accessed\n",
    "  spark.sparkContext.addPyFile(f)"
   ]
  },
  {
   "cell_type": "code",
   "execution_count": null,
   "metadata": {},
   "outputs": [],
   "source": [
    "display(dbutils.fs.ls(f'{dest}'))"
   ]
  }
 ],
 "metadata": {
  "application/vnd.databricks.v1+notebook": {
   "dashboards": [],
   "language": "python",
   "notebookMetadata": {
    "pythonIndentUnit": 4
   },
   "notebookName": "bootstrap_copy",
   "widgets": {}
  },
  "language_info": {
   "name": "python"
  }
 },
 "nbformat": 4,
 "nbformat_minor": 0
}
